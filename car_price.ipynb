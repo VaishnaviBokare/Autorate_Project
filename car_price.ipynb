{
 "cells": [
  {
   "cell_type": "code",
   "execution_count": 57,
   "id": "8e4de9db",
   "metadata": {},
   "outputs": [],
   "source": [
    "import pandas as pd\n",
    "import numpy as np\n",
    "from sklearn.metrics import r2_score\n",
    "\n",
    "from sklearn.model_selection import train_test_split\n",
    "from sklearn.linear_model import LinearRegression"
   ]
  },
  {
   "cell_type": "code",
   "execution_count": 58,
   "id": "5914ed5e",
   "metadata": {},
   "outputs": [],
   "source": [
    "cars_data = pd.read_csv('C:\\\\Users\\\\Digvijay\\\\Downloads\\\\Cardetails.csv')"
   ]
  },
  {
   "cell_type": "code",
   "execution_count": 59,
   "id": "c10c1ea7",
   "metadata": {},
   "outputs": [
    {
     "data": {
      "text/html": [
       "<div>\n",
       "<style scoped>\n",
       "    .dataframe tbody tr th:only-of-type {\n",
       "        vertical-align: middle;\n",
       "    }\n",
       "\n",
       "    .dataframe tbody tr th {\n",
       "        vertical-align: top;\n",
       "    }\n",
       "\n",
       "    .dataframe thead th {\n",
       "        text-align: right;\n",
       "    }\n",
       "</style>\n",
       "<table border=\"1\" class=\"dataframe\">\n",
       "  <thead>\n",
       "    <tr style=\"text-align: right;\">\n",
       "      <th></th>\n",
       "      <th>name</th>\n",
       "      <th>year</th>\n",
       "      <th>selling_price</th>\n",
       "      <th>km_driven</th>\n",
       "      <th>fuel</th>\n",
       "      <th>seller_type</th>\n",
       "      <th>transmission</th>\n",
       "      <th>owner</th>\n",
       "      <th>mileage</th>\n",
       "      <th>engine</th>\n",
       "      <th>max_power</th>\n",
       "      <th>torque</th>\n",
       "      <th>seats</th>\n",
       "    </tr>\n",
       "  </thead>\n",
       "  <tbody>\n",
       "    <tr>\n",
       "      <th>288</th>\n",
       "      <td>Mercedes-Benz GL-Class 220d 4MATIC Sport</td>\n",
       "      <td>2018</td>\n",
       "      <td>4600000</td>\n",
       "      <td>7976</td>\n",
       "      <td>Diesel</td>\n",
       "      <td>Individual</td>\n",
       "      <td>Automatic</td>\n",
       "      <td>First Owner</td>\n",
       "      <td>17.9 kmpl</td>\n",
       "      <td>2143 CC</td>\n",
       "      <td>170 bhp</td>\n",
       "      <td>400Nm@ 1400-2800rpm</td>\n",
       "      <td>5.0</td>\n",
       "    </tr>\n",
       "    <tr>\n",
       "      <th>74</th>\n",
       "      <td>Maruti Swift VDI Deca</td>\n",
       "      <td>2016</td>\n",
       "      <td>630000</td>\n",
       "      <td>70000</td>\n",
       "      <td>Diesel</td>\n",
       "      <td>Individual</td>\n",
       "      <td>Manual</td>\n",
       "      <td>First Owner</td>\n",
       "      <td>25.2 kmpl</td>\n",
       "      <td>1248 CC</td>\n",
       "      <td>74 bhp</td>\n",
       "      <td>190Nm@ 2000rpm</td>\n",
       "      <td>5.0</td>\n",
       "    </tr>\n",
       "    <tr>\n",
       "      <th>7371</th>\n",
       "      <td>Maruti Baleno Delta</td>\n",
       "      <td>2017</td>\n",
       "      <td>620000</td>\n",
       "      <td>37000</td>\n",
       "      <td>Petrol</td>\n",
       "      <td>Dealer</td>\n",
       "      <td>Manual</td>\n",
       "      <td>First Owner</td>\n",
       "      <td>21.01 kmpl</td>\n",
       "      <td>1197 CC</td>\n",
       "      <td>81.80 bhp</td>\n",
       "      <td>113Nm@ 4200rpm</td>\n",
       "      <td>5.0</td>\n",
       "    </tr>\n",
       "  </tbody>\n",
       "</table>\n",
       "</div>"
      ],
      "text/plain": [
       "                                          name  year  selling_price  \\\n",
       "288   Mercedes-Benz GL-Class 220d 4MATIC Sport  2018        4600000   \n",
       "74                       Maruti Swift VDI Deca  2016         630000   \n",
       "7371                       Maruti Baleno Delta  2017         620000   \n",
       "\n",
       "      km_driven    fuel seller_type transmission        owner     mileage  \\\n",
       "288        7976  Diesel  Individual    Automatic  First Owner   17.9 kmpl   \n",
       "74        70000  Diesel  Individual       Manual  First Owner   25.2 kmpl   \n",
       "7371      37000  Petrol      Dealer       Manual  First Owner  21.01 kmpl   \n",
       "\n",
       "       engine  max_power               torque  seats  \n",
       "288   2143 CC    170 bhp  400Nm@ 1400-2800rpm    5.0  \n",
       "74    1248 CC     74 bhp       190Nm@ 2000rpm    5.0  \n",
       "7371  1197 CC  81.80 bhp       113Nm@ 4200rpm    5.0  "
      ]
     },
     "execution_count": 59,
     "metadata": {},
     "output_type": "execute_result"
    }
   ],
   "source": [
    "cars_data.sample(3)"
   ]
  },
  {
   "cell_type": "code",
   "execution_count": 60,
   "id": "6e329414",
   "metadata": {},
   "outputs": [],
   "source": [
    "cars_data.drop(columns=['torque'], inplace=True)"
   ]
  },
  {
   "cell_type": "code",
   "execution_count": 61,
   "id": "e75507f3",
   "metadata": {},
   "outputs": [
    {
     "data": {
      "text/html": [
       "<div>\n",
       "<style scoped>\n",
       "    .dataframe tbody tr th:only-of-type {\n",
       "        vertical-align: middle;\n",
       "    }\n",
       "\n",
       "    .dataframe tbody tr th {\n",
       "        vertical-align: top;\n",
       "    }\n",
       "\n",
       "    .dataframe thead th {\n",
       "        text-align: right;\n",
       "    }\n",
       "</style>\n",
       "<table border=\"1\" class=\"dataframe\">\n",
       "  <thead>\n",
       "    <tr style=\"text-align: right;\">\n",
       "      <th></th>\n",
       "      <th>name</th>\n",
       "      <th>year</th>\n",
       "      <th>selling_price</th>\n",
       "      <th>km_driven</th>\n",
       "      <th>fuel</th>\n",
       "      <th>seller_type</th>\n",
       "      <th>transmission</th>\n",
       "      <th>owner</th>\n",
       "      <th>mileage</th>\n",
       "      <th>engine</th>\n",
       "      <th>max_power</th>\n",
       "      <th>seats</th>\n",
       "    </tr>\n",
       "  </thead>\n",
       "  <tbody>\n",
       "    <tr>\n",
       "      <th>2066</th>\n",
       "      <td>Tata Manza Club Class Quadrajet90 VX</td>\n",
       "      <td>2013</td>\n",
       "      <td>260000</td>\n",
       "      <td>189000</td>\n",
       "      <td>Diesel</td>\n",
       "      <td>Individual</td>\n",
       "      <td>Manual</td>\n",
       "      <td>First Owner</td>\n",
       "      <td>21.02 kmpl</td>\n",
       "      <td>1248 CC</td>\n",
       "      <td>88.76 bhp</td>\n",
       "      <td>5.0</td>\n",
       "    </tr>\n",
       "    <tr>\n",
       "      <th>5497</th>\n",
       "      <td>Maruti Wagon R VXI BSIII</td>\n",
       "      <td>2012</td>\n",
       "      <td>260000</td>\n",
       "      <td>31000</td>\n",
       "      <td>Petrol</td>\n",
       "      <td>Individual</td>\n",
       "      <td>Manual</td>\n",
       "      <td>First Owner</td>\n",
       "      <td>18.9 kmpl</td>\n",
       "      <td>998 CC</td>\n",
       "      <td>67.1 bhp</td>\n",
       "      <td>5.0</td>\n",
       "    </tr>\n",
       "    <tr>\n",
       "      <th>2401</th>\n",
       "      <td>Ford Aspire Trend Diesel BSIV</td>\n",
       "      <td>2018</td>\n",
       "      <td>530000</td>\n",
       "      <td>80000</td>\n",
       "      <td>Diesel</td>\n",
       "      <td>Individual</td>\n",
       "      <td>Manual</td>\n",
       "      <td>First Owner</td>\n",
       "      <td>26.1 kmpl</td>\n",
       "      <td>1498 CC</td>\n",
       "      <td>99.23 bhp</td>\n",
       "      <td>5.0</td>\n",
       "    </tr>\n",
       "    <tr>\n",
       "      <th>5668</th>\n",
       "      <td>Tata Indica V2 DLX</td>\n",
       "      <td>2008</td>\n",
       "      <td>67000</td>\n",
       "      <td>80000</td>\n",
       "      <td>Diesel</td>\n",
       "      <td>Individual</td>\n",
       "      <td>Manual</td>\n",
       "      <td>Second Owner</td>\n",
       "      <td>17.2 kmpl</td>\n",
       "      <td>1396 CC</td>\n",
       "      <td>53.5 bhp</td>\n",
       "      <td>5.0</td>\n",
       "    </tr>\n",
       "    <tr>\n",
       "      <th>3169</th>\n",
       "      <td>Tata Sumo EX</td>\n",
       "      <td>2016</td>\n",
       "      <td>445000</td>\n",
       "      <td>63000</td>\n",
       "      <td>Diesel</td>\n",
       "      <td>Dealer</td>\n",
       "      <td>Manual</td>\n",
       "      <td>First Owner</td>\n",
       "      <td>15.3 kmpl</td>\n",
       "      <td>2956 CC</td>\n",
       "      <td>83.8 bhp</td>\n",
       "      <td>9.0</td>\n",
       "    </tr>\n",
       "    <tr>\n",
       "      <th>7739</th>\n",
       "      <td>Hyundai i20 Asta 1.2</td>\n",
       "      <td>2015</td>\n",
       "      <td>550000</td>\n",
       "      <td>70000</td>\n",
       "      <td>Petrol</td>\n",
       "      <td>Individual</td>\n",
       "      <td>Manual</td>\n",
       "      <td>First Owner</td>\n",
       "      <td>18.6 kmpl</td>\n",
       "      <td>1197 CC</td>\n",
       "      <td>81.83 bhp</td>\n",
       "      <td>5.0</td>\n",
       "    </tr>\n",
       "    <tr>\n",
       "      <th>2143</th>\n",
       "      <td>Hyundai Creta 1.6 CRDi SX Option</td>\n",
       "      <td>2015</td>\n",
       "      <td>822000</td>\n",
       "      <td>60000</td>\n",
       "      <td>Diesel</td>\n",
       "      <td>Individual</td>\n",
       "      <td>Manual</td>\n",
       "      <td>First Owner</td>\n",
       "      <td>19.67 kmpl</td>\n",
       "      <td>1582 CC</td>\n",
       "      <td>126.2 bhp</td>\n",
       "      <td>5.0</td>\n",
       "    </tr>\n",
       "    <tr>\n",
       "      <th>5001</th>\n",
       "      <td>Honda City 2017-2020 GXi</td>\n",
       "      <td>2007</td>\n",
       "      <td>210000</td>\n",
       "      <td>140000</td>\n",
       "      <td>Petrol</td>\n",
       "      <td>Individual</td>\n",
       "      <td>Manual</td>\n",
       "      <td>First Owner</td>\n",
       "      <td>17.7 kmpl</td>\n",
       "      <td>1497 CC</td>\n",
       "      <td>78 bhp</td>\n",
       "      <td>5.0</td>\n",
       "    </tr>\n",
       "    <tr>\n",
       "      <th>4464</th>\n",
       "      <td>Mahindra Bolero 2011-2019 ZLX</td>\n",
       "      <td>2013</td>\n",
       "      <td>600000</td>\n",
       "      <td>45000</td>\n",
       "      <td>Diesel</td>\n",
       "      <td>Individual</td>\n",
       "      <td>Manual</td>\n",
       "      <td>First Owner</td>\n",
       "      <td>15.96 kmpl</td>\n",
       "      <td>2523 CC</td>\n",
       "      <td>62.1 bhp</td>\n",
       "      <td>7.0</td>\n",
       "    </tr>\n",
       "    <tr>\n",
       "      <th>7343</th>\n",
       "      <td>BMW X4 M Sport X xDrive20d</td>\n",
       "      <td>2019</td>\n",
       "      <td>5800000</td>\n",
       "      <td>21000</td>\n",
       "      <td>Diesel</td>\n",
       "      <td>Dealer</td>\n",
       "      <td>Automatic</td>\n",
       "      <td>First Owner</td>\n",
       "      <td>16.78 kmpl</td>\n",
       "      <td>1995 CC</td>\n",
       "      <td>190 bhp</td>\n",
       "      <td>5.0</td>\n",
       "    </tr>\n",
       "  </tbody>\n",
       "</table>\n",
       "</div>"
      ],
      "text/plain": [
       "                                      name  year  selling_price  km_driven  \\\n",
       "2066  Tata Manza Club Class Quadrajet90 VX  2013         260000     189000   \n",
       "5497              Maruti Wagon R VXI BSIII  2012         260000      31000   \n",
       "2401         Ford Aspire Trend Diesel BSIV  2018         530000      80000   \n",
       "5668                    Tata Indica V2 DLX  2008          67000      80000   \n",
       "3169                          Tata Sumo EX  2016         445000      63000   \n",
       "7739                  Hyundai i20 Asta 1.2  2015         550000      70000   \n",
       "2143      Hyundai Creta 1.6 CRDi SX Option  2015         822000      60000   \n",
       "5001              Honda City 2017-2020 GXi  2007         210000     140000   \n",
       "4464         Mahindra Bolero 2011-2019 ZLX  2013         600000      45000   \n",
       "7343            BMW X4 M Sport X xDrive20d  2019        5800000      21000   \n",
       "\n",
       "        fuel seller_type transmission         owner     mileage   engine  \\\n",
       "2066  Diesel  Individual       Manual   First Owner  21.02 kmpl  1248 CC   \n",
       "5497  Petrol  Individual       Manual   First Owner   18.9 kmpl   998 CC   \n",
       "2401  Diesel  Individual       Manual   First Owner   26.1 kmpl  1498 CC   \n",
       "5668  Diesel  Individual       Manual  Second Owner   17.2 kmpl  1396 CC   \n",
       "3169  Diesel      Dealer       Manual   First Owner   15.3 kmpl  2956 CC   \n",
       "7739  Petrol  Individual       Manual   First Owner   18.6 kmpl  1197 CC   \n",
       "2143  Diesel  Individual       Manual   First Owner  19.67 kmpl  1582 CC   \n",
       "5001  Petrol  Individual       Manual   First Owner   17.7 kmpl  1497 CC   \n",
       "4464  Diesel  Individual       Manual   First Owner  15.96 kmpl  2523 CC   \n",
       "7343  Diesel      Dealer    Automatic   First Owner  16.78 kmpl  1995 CC   \n",
       "\n",
       "      max_power  seats  \n",
       "2066  88.76 bhp    5.0  \n",
       "5497   67.1 bhp    5.0  \n",
       "2401  99.23 bhp    5.0  \n",
       "5668   53.5 bhp    5.0  \n",
       "3169   83.8 bhp    9.0  \n",
       "7739  81.83 bhp    5.0  \n",
       "2143  126.2 bhp    5.0  \n",
       "5001     78 bhp    5.0  \n",
       "4464   62.1 bhp    7.0  \n",
       "7343    190 bhp    5.0  "
      ]
     },
     "execution_count": 61,
     "metadata": {},
     "output_type": "execute_result"
    }
   ],
   "source": [
    "cars_data.sample(10)"
   ]
  },
  {
   "cell_type": "code",
   "execution_count": 62,
   "id": "d570752f",
   "metadata": {},
   "outputs": [
    {
     "data": {
      "text/plain": [
       "(8128, 12)"
      ]
     },
     "execution_count": 62,
     "metadata": {},
     "output_type": "execute_result"
    }
   ],
   "source": [
    "cars_data.shape"
   ]
  },
  {
   "cell_type": "code",
   "execution_count": 63,
   "id": "40f7f5e8",
   "metadata": {},
   "outputs": [
    {
     "data": {
      "text/plain": [
       "name               0\n",
       "year               0\n",
       "selling_price      0\n",
       "km_driven          0\n",
       "fuel               0\n",
       "seller_type        0\n",
       "transmission       0\n",
       "owner              0\n",
       "mileage          221\n",
       "engine           221\n",
       "max_power        215\n",
       "seats            221\n",
       "dtype: int64"
      ]
     },
     "execution_count": 63,
     "metadata": {},
     "output_type": "execute_result"
    }
   ],
   "source": [
    "cars_data.isnull().sum()"
   ]
  },
  {
   "cell_type": "code",
   "execution_count": 64,
   "id": "9c39f7d0",
   "metadata": {},
   "outputs": [],
   "source": [
    "cars_data['mileage'] = cars_data['mileage'].str.replace(' kmpl', '')"
   ]
  },
  {
   "cell_type": "code",
   "execution_count": 65,
   "id": "f72d4e19",
   "metadata": {},
   "outputs": [],
   "source": [
    "import pandas as pd\n",
    "\n",
    "# Assuming 'cars_data' is your DataFrame and 'mileage' is the column containing mileage data\n",
    "cars_data['mileage'] = pd.to_numeric(cars_data['mileage'], errors='coerce')\n",
    "\n",
    "# Calculate the mean of the 'mileage' column\n",
    "mileage_mean = cars_data['mileage'].mean()\n",
    "\n",
    "# Fill null values in the 'mileage' column with the mean value\n",
    "cars_data['mileage'].fillna(mileage_mean, inplace=True)\n"
   ]
  },
  {
   "cell_type": "code",
   "execution_count": 66,
   "id": "06de2c4d",
   "metadata": {},
   "outputs": [],
   "source": [
    "cars_data['mileage'].fillna(mileage_mean, inplace=True)\n"
   ]
  },
  {
   "cell_type": "code",
   "execution_count": 67,
   "id": "017d45c6",
   "metadata": {},
   "outputs": [
    {
     "data": {
      "text/plain": [
       "name               0\n",
       "year               0\n",
       "selling_price      0\n",
       "km_driven          0\n",
       "fuel               0\n",
       "seller_type        0\n",
       "transmission       0\n",
       "owner              0\n",
       "mileage            0\n",
       "engine           221\n",
       "max_power        215\n",
       "seats            221\n",
       "dtype: int64"
      ]
     },
     "execution_count": 67,
     "metadata": {},
     "output_type": "execute_result"
    }
   ],
   "source": [
    "cars_data.isnull().sum()"
   ]
  },
  {
   "cell_type": "code",
   "execution_count": 68,
   "id": "358fc768",
   "metadata": {},
   "outputs": [],
   "source": [
    "# Assuming 'cars_data' is your DataFrame\n",
    "cars_data.dropna(subset=['engine', 'max_power', 'seats'], inplace=True)\n"
   ]
  },
  {
   "cell_type": "code",
   "execution_count": 69,
   "id": "334e2147",
   "metadata": {},
   "outputs": [
    {
     "data": {
      "text/plain": [
       "name             0\n",
       "year             0\n",
       "selling_price    0\n",
       "km_driven        0\n",
       "fuel             0\n",
       "seller_type      0\n",
       "transmission     0\n",
       "owner            0\n",
       "mileage          0\n",
       "engine           0\n",
       "max_power        0\n",
       "seats            0\n",
       "dtype: int64"
      ]
     },
     "execution_count": 69,
     "metadata": {},
     "output_type": "execute_result"
    }
   ],
   "source": [
    "cars_data.isnull().sum()"
   ]
  },
  {
   "cell_type": "code",
   "execution_count": 70,
   "id": "90668a32",
   "metadata": {},
   "outputs": [
    {
     "data": {
      "text/plain": [
       "(7907, 12)"
      ]
     },
     "execution_count": 70,
     "metadata": {},
     "output_type": "execute_result"
    }
   ],
   "source": [
    "cars_data.shape"
   ]
  },
  {
   "cell_type": "code",
   "execution_count": 71,
   "id": "46e35f28",
   "metadata": {},
   "outputs": [
    {
     "data": {
      "text/html": [
       "<div>\n",
       "<style scoped>\n",
       "    .dataframe tbody tr th:only-of-type {\n",
       "        vertical-align: middle;\n",
       "    }\n",
       "\n",
       "    .dataframe tbody tr th {\n",
       "        vertical-align: top;\n",
       "    }\n",
       "\n",
       "    .dataframe thead th {\n",
       "        text-align: right;\n",
       "    }\n",
       "</style>\n",
       "<table border=\"1\" class=\"dataframe\">\n",
       "  <thead>\n",
       "    <tr style=\"text-align: right;\">\n",
       "      <th></th>\n",
       "      <th>year</th>\n",
       "      <th>selling_price</th>\n",
       "      <th>km_driven</th>\n",
       "      <th>mileage</th>\n",
       "      <th>seats</th>\n",
       "    </tr>\n",
       "  </thead>\n",
       "  <tbody>\n",
       "    <tr>\n",
       "      <th>count</th>\n",
       "      <td>7907.000000</td>\n",
       "      <td>7.907000e+03</td>\n",
       "      <td>7.907000e+03</td>\n",
       "      <td>7907.000000</td>\n",
       "      <td>7907.000000</td>\n",
       "    </tr>\n",
       "    <tr>\n",
       "      <th>mean</th>\n",
       "      <td>2013.982168</td>\n",
       "      <td>6.497417e+05</td>\n",
       "      <td>6.919256e+04</td>\n",
       "      <td>19.390375</td>\n",
       "      <td>5.416719</td>\n",
       "    </tr>\n",
       "    <tr>\n",
       "      <th>std</th>\n",
       "      <td>3.866650</td>\n",
       "      <td>8.135565e+05</td>\n",
       "      <td>5.678976e+04</td>\n",
       "      <td>3.979443</td>\n",
       "      <td>0.959588</td>\n",
       "    </tr>\n",
       "    <tr>\n",
       "      <th>min</th>\n",
       "      <td>1994.000000</td>\n",
       "      <td>2.999900e+04</td>\n",
       "      <td>1.000000e+00</td>\n",
       "      <td>0.000000</td>\n",
       "      <td>2.000000</td>\n",
       "    </tr>\n",
       "    <tr>\n",
       "      <th>25%</th>\n",
       "      <td>2012.000000</td>\n",
       "      <td>2.700000e+05</td>\n",
       "      <td>3.500000e+04</td>\n",
       "      <td>16.780000</td>\n",
       "      <td>5.000000</td>\n",
       "    </tr>\n",
       "    <tr>\n",
       "      <th>50%</th>\n",
       "      <td>2015.000000</td>\n",
       "      <td>4.500000e+05</td>\n",
       "      <td>6.000000e+04</td>\n",
       "      <td>19.330000</td>\n",
       "      <td>5.000000</td>\n",
       "    </tr>\n",
       "    <tr>\n",
       "      <th>75%</th>\n",
       "      <td>2017.000000</td>\n",
       "      <td>6.900000e+05</td>\n",
       "      <td>9.575000e+04</td>\n",
       "      <td>22.320000</td>\n",
       "      <td>5.000000</td>\n",
       "    </tr>\n",
       "    <tr>\n",
       "      <th>max</th>\n",
       "      <td>2020.000000</td>\n",
       "      <td>1.000000e+07</td>\n",
       "      <td>2.360457e+06</td>\n",
       "      <td>42.000000</td>\n",
       "      <td>14.000000</td>\n",
       "    </tr>\n",
       "  </tbody>\n",
       "</table>\n",
       "</div>"
      ],
      "text/plain": [
       "              year  selling_price     km_driven      mileage        seats\n",
       "count  7907.000000   7.907000e+03  7.907000e+03  7907.000000  7907.000000\n",
       "mean   2013.982168   6.497417e+05  6.919256e+04    19.390375     5.416719\n",
       "std       3.866650   8.135565e+05  5.678976e+04     3.979443     0.959588\n",
       "min    1994.000000   2.999900e+04  1.000000e+00     0.000000     2.000000\n",
       "25%    2012.000000   2.700000e+05  3.500000e+04    16.780000     5.000000\n",
       "50%    2015.000000   4.500000e+05  6.000000e+04    19.330000     5.000000\n",
       "75%    2017.000000   6.900000e+05  9.575000e+04    22.320000     5.000000\n",
       "max    2020.000000   1.000000e+07  2.360457e+06    42.000000    14.000000"
      ]
     },
     "execution_count": 71,
     "metadata": {},
     "output_type": "execute_result"
    }
   ],
   "source": [
    "cars_data.describe()"
   ]
  },
  {
   "cell_type": "code",
   "execution_count": 72,
   "id": "a5205298",
   "metadata": {},
   "outputs": [
    {
     "name": "stdout",
     "output_type": "stream",
     "text": [
      "Descriptive Statistics for Mileage:\n",
      "count    7907.000000\n",
      "mean       19.390375\n",
      "std         3.979443\n",
      "min         0.000000\n",
      "25%        16.780000\n",
      "50%        19.330000\n",
      "75%        22.320000\n",
      "max        42.000000\n",
      "Name: mileage, dtype: float64\n"
     ]
    },
    {
     "data": {
      "image/png": "[encoded data removed]",
      "text/plain": [
       "<Figure size 800x600 with 1 Axes>"
      ]
     },
     "metadata": {},
     "output_type": "display_data"
    }
   ],
   "source": [
    "import pandas as pd\n",
    "import seaborn as sns\n",
    "import matplotlib.pyplot as plt\n",
    "\n",
    "# Assuming 'cars_data' is your DataFrame and 'mileage' is the column containing mileage data\n",
    "mileage_data = cars_data['mileage']\n",
    "\n",
    "# Descriptive statistics\n",
    "print(\"Descriptive Statistics for Mileage:\")\n",
    "print(mileage_data.describe())\n",
    "\n",
    "plt.figure(figsize=(8, 6))\n",
    "sns.histplot(mileage_data, bins=20, kde=True)\n",
    "plt.title('Histogram of Mileage')\n",
    "plt.xlabel('Mileage')\n",
    "plt.ylabel('Frequency')\n",
    "plt.show()\n"
   ]
  },
  {
   "cell_type": "code",
   "execution_count": 73,
   "id": "16bfe1cd",
   "metadata": {},
   "outputs": [
    {
     "data": {
      "text/plain": [
       "42.0"
      ]
     },
     "execution_count": 73,
     "metadata": {},
     "output_type": "execute_result"
    }
   ],
   "source": [
    "cars_data['mileage'].max()"
   ]
  },
  {
   "cell_type": "code",
   "execution_count": 74,
   "id": "e7ef13dd",
   "metadata": {},
   "outputs": [
    {
     "name": "stdout",
     "output_type": "stream",
     "text": [
      "                              name  year  selling_price  km_driven    fuel  \\\n",
      "170  Volvo XC90 T8 Excellence BSIV  2017       10000000      30000  Petrol   \n",
      "\n",
      "    seller_type transmission        owner  mileage   engine max_power  seats  \n",
      "170  Individual    Automatic  First Owner     42.0  1969 CC   400 bhp    4.0  \n"
     ]
    }
   ],
   "source": [
    "# Assuming 'cars_data' is your DataFrame\n",
    "mileage_threshold = 30\n",
    "high_mileage_cars = cars_data[cars_data['mileage'] > mileage_threshold]\n",
    "\n",
    "# Display the rows where mileage is greater than 30\n",
    "print(high_mileage_cars)\n"
   ]
  },
  {
   "cell_type": "code",
   "execution_count": 75,
   "id": "581b82fe",
   "metadata": {},
   "outputs": [
    {
     "name": "stdout",
     "output_type": "stream",
     "text": [
      "                              name  year  selling_price  km_driven    fuel  \\\n",
      "0           Maruti Swift Dzire VDI  2014         450000     145500  Diesel   \n",
      "1     Skoda Rapid 1.5 TDI Ambition  2014         370000     120000  Diesel   \n",
      "2         Honda City 2017-2020 EXi  2006         158000     140000  Petrol   \n",
      "3        Hyundai i20 Sportz Diesel  2010         225000     127000  Diesel   \n",
      "4           Maruti Swift VXI BSIII  2007         130000     120000  Petrol   \n",
      "...                            ...   ...            ...        ...     ...   \n",
      "8123             Hyundai i20 Magna  2013         320000     110000  Petrol   \n",
      "8124         Hyundai Verna CRDi SX  2007         135000     119000  Diesel   \n",
      "8125        Maruti Swift Dzire ZDi  2009         382000     120000  Diesel   \n",
      "8126               Tata Indigo CR4  2013         290000      25000  Diesel   \n",
      "8127               Tata Indigo CR4  2013         290000      25000  Diesel   \n",
      "\n",
      "     seller_type transmission                 owner  mileage   engine  \\\n",
      "0     Individual       Manual           First Owner    23.40  1248 CC   \n",
      "1     Individual       Manual          Second Owner    21.14  1498 CC   \n",
      "2     Individual       Manual           Third Owner    17.70  1497 CC   \n",
      "3     Individual       Manual           First Owner    23.00  1396 CC   \n",
      "4     Individual       Manual           First Owner    16.10  1298 CC   \n",
      "...          ...          ...                   ...      ...      ...   \n",
      "8123  Individual       Manual           First Owner    18.50  1197 CC   \n",
      "8124  Individual       Manual  Fourth & Above Owner    16.80  1493 CC   \n",
      "8125  Individual       Manual           First Owner    19.30  1248 CC   \n",
      "8126  Individual       Manual           First Owner    23.57  1396 CC   \n",
      "8127  Individual       Manual           First Owner    23.57  1396 CC   \n",
      "\n",
      "       max_power  seats  \n",
      "0         74 bhp    5.0  \n",
      "1     103.52 bhp    5.0  \n",
      "2         78 bhp    5.0  \n",
      "3         90 bhp    5.0  \n",
      "4       88.2 bhp    5.0  \n",
      "...          ...    ...  \n",
      "8123   82.85 bhp    5.0  \n",
      "8124     110 bhp    5.0  \n",
      "8125    73.9 bhp    5.0  \n",
      "8126      70 bhp    5.0  \n",
      "8127      70 bhp    5.0  \n",
      "\n",
      "[7906 rows x 12 columns]\n"
     ]
    }
   ],
   "source": [
    "# Assuming 'cars_data' is your DataFrame\n",
    "cars_data = cars_data[cars_data['mileage'] <= 40]\n",
    "\n",
    "# Display the DataFrame after filtering\n",
    "print(cars_data)\n"
   ]
  },
  {
   "cell_type": "code",
   "execution_count": 76,
   "id": "0e15bf0f",
   "metadata": {},
   "outputs": [
    {
     "name": "stdout",
     "output_type": "stream",
     "text": [
      "Descriptive Statistics for selling_price:\n",
      "count    7.906000e+03\n",
      "mean     6.485590e+05\n",
      "std      8.067818e+05\n",
      "min      2.999900e+04\n",
      "25%      2.700000e+05\n",
      "50%      4.500000e+05\n",
      "75%      6.900000e+05\n",
      "max      7.200000e+06\n",
      "Name: selling_price, dtype: float64\n"
     ]
    },
    {
     "data": {
      "image/png": "[encoded data removed]",
      "text/plain": [
       "<Figure size 800x600 with 1 Axes>"
      ]
     },
     "metadata": {},
     "output_type": "display_data"
    }
   ],
   "source": [
    "import pandas as pd\n",
    "import seaborn as sns\n",
    "import matplotlib.pyplot as plt\n",
    "\n",
    "# Assuming 'cars_data' is your DataFrame and 'mileage' is the column containing mileage data\n",
    "mileage_data = cars_data['selling_price']\n",
    "\n",
    "# Descriptive statistics\n",
    "print(\"Descriptive Statistics for selling_price:\")\n",
    "print(mileage_data.describe())\n",
    "\n",
    "plt.figure(figsize=(8, 6))\n",
    "sns.histplot(mileage_data, bins=20, kde=True)\n",
    "plt.title('Histogram of Mileage')\n",
    "plt.xlabel('selling_price')\n",
    "plt.ylabel('Frequency')\n",
    "plt.show()\n"
   ]
  },
  {
   "cell_type": "code",
   "execution_count": 77,
   "id": "ee663283",
   "metadata": {},
   "outputs": [
    {
     "name": "stdout",
     "output_type": "stream",
     "text": [
      "5150000    34\n",
      "5500000    33\n",
      "5400000    30\n",
      "4100000     6\n",
      "6000000     6\n",
      "4500000     4\n",
      "5200000     4\n",
      "5800000     2\n",
      "4600000     2\n",
      "5830000     2\n",
      "5850000     1\n",
      "7200000     1\n",
      "4090000     1\n",
      "6223000     1\n",
      "5923000     1\n",
      "6523000     1\n",
      "Name: selling_price, dtype: int64\n"
     ]
    }
   ],
   "source": [
    "# Assuming 'cars_data' is your DataFrame\n",
    "selling_price_thr = 4000000\n",
    "high_selling_price_cars = cars_data[cars_data['selling_price'] > selling_price_thr]\n",
    "\n",
    "# Display the value counts of the 'selling_price' column\n",
    "selling_price_counts = high_selling_price_cars['selling_price'].value_counts()\n",
    "print(selling_price_counts)\n"
   ]
  },
  {
   "cell_type": "code",
   "execution_count": 78,
   "id": "35f51405",
   "metadata": {},
   "outputs": [
    {
     "name": "stdout",
     "output_type": "stream",
     "text": [
      "                              name  year  selling_price  km_driven    fuel  \\\n",
      "0           Maruti Swift Dzire VDI  2014         450000     145500  Diesel   \n",
      "1     Skoda Rapid 1.5 TDI Ambition  2014         370000     120000  Diesel   \n",
      "2         Honda City 2017-2020 EXi  2006         158000     140000  Petrol   \n",
      "3        Hyundai i20 Sportz Diesel  2010         225000     127000  Diesel   \n",
      "4           Maruti Swift VXI BSIII  2007         130000     120000  Petrol   \n",
      "...                            ...   ...            ...        ...     ...   \n",
      "8123             Hyundai i20 Magna  2013         320000     110000  Petrol   \n",
      "8124         Hyundai Verna CRDi SX  2007         135000     119000  Diesel   \n",
      "8125        Maruti Swift Dzire ZDi  2009         382000     120000  Diesel   \n",
      "8126               Tata Indigo CR4  2013         290000      25000  Diesel   \n",
      "8127               Tata Indigo CR4  2013         290000      25000  Diesel   \n",
      "\n",
      "     seller_type transmission                 owner  mileage   engine  \\\n",
      "0     Individual       Manual           First Owner    23.40  1248 CC   \n",
      "1     Individual       Manual          Second Owner    21.14  1498 CC   \n",
      "2     Individual       Manual           Third Owner    17.70  1497 CC   \n",
      "3     Individual       Manual           First Owner    23.00  1396 CC   \n",
      "4     Individual       Manual           First Owner    16.10  1298 CC   \n",
      "...          ...          ...                   ...      ...      ...   \n",
      "8123  Individual       Manual           First Owner    18.50  1197 CC   \n",
      "8124  Individual       Manual  Fourth & Above Owner    16.80  1493 CC   \n",
      "8125  Individual       Manual           First Owner    19.30  1248 CC   \n",
      "8126  Individual       Manual           First Owner    23.57  1396 CC   \n",
      "8127  Individual       Manual           First Owner    23.57  1396 CC   \n",
      "\n",
      "       max_power  seats  \n",
      "0         74 bhp    5.0  \n",
      "1     103.52 bhp    5.0  \n",
      "2         78 bhp    5.0  \n",
      "3         90 bhp    5.0  \n",
      "4       88.2 bhp    5.0  \n",
      "...          ...    ...  \n",
      "8123   82.85 bhp    5.0  \n",
      "8124     110 bhp    5.0  \n",
      "8125    73.9 bhp    5.0  \n",
      "8126      70 bhp    5.0  \n",
      "8127      70 bhp    5.0  \n",
      "\n",
      "[7777 rows x 12 columns]\n"
     ]
    }
   ],
   "source": [
    "# Assuming 'cars_data' is your DataFrame\n",
    "selling_price_thr = 4000000\n",
    "\n",
    "# Filter out the rows where selling price is greater than 4,000,000\n",
    "cars_data = cars_data[cars_data['selling_price'] <= selling_price_thr]\n",
    "\n",
    "# Display the DataFrame after filtering\n",
    "print(cars_data)\n"
   ]
  },
  {
   "cell_type": "code",
   "execution_count": 79,
   "id": "efdbe54f",
   "metadata": {},
   "outputs": [
    {
     "data": {
      "text/plain": [
       "(7777, 12)"
      ]
     },
     "execution_count": 79,
     "metadata": {},
     "output_type": "execute_result"
    }
   ],
   "source": [
    "cars_data.shape"
   ]
  },
  {
   "cell_type": "code",
   "execution_count": 80,
   "id": "7170a499",
   "metadata": {},
   "outputs": [
    {
     "data": {
      "text/plain": [
       "array(['Diesel', 'Petrol', 'LPG', 'CNG'], dtype=object)"
      ]
     },
     "execution_count": 80,
     "metadata": {},
     "output_type": "execute_result"
    }
   ],
   "source": [
    "cars_data['fuel'].unique()"
   ]
  },
  {
   "cell_type": "code",
   "execution_count": 81,
   "id": "fca36310",
   "metadata": {},
   "outputs": [],
   "source": [
    "def get_brand_name(car_name):\n",
    "    car_name = car_name.split(' ')[0]\n",
    "    return car_name.strip()"
   ]
  },
  {
   "cell_type": "code",
   "execution_count": 82,
   "id": "899c729f",
   "metadata": {},
   "outputs": [],
   "source": [
    "def clean_data(value):\n",
    "    value = value.split(' ')[0]\n",
    "    value = value.strip()\n",
    "    if value == '':\n",
    "        value = 0\n",
    "    return float(value)"
   ]
  },
  {
   "cell_type": "code",
   "execution_count": 83,
   "id": "14dc934b",
   "metadata": {},
   "outputs": [
    {
     "data": {
      "text/plain": [
       "'Maruti'"
      ]
     },
     "execution_count": 83,
     "metadata": {},
     "output_type": "execute_result"
    }
   ],
   "source": [
    "get_brand_name('Maruti  Swift Dzire VDI')"
   ]
  },
  {
   "cell_type": "code",
   "execution_count": 84,
   "id": "1df83da7",
   "metadata": {},
   "outputs": [],
   "source": [
    "cars_data['name'] = cars_data['name'].apply(get_brand_name)"
   ]
  },
  {
   "cell_type": "code",
   "execution_count": 85,
   "id": "edaef7a9",
   "metadata": {},
   "outputs": [
    {
     "data": {
      "text/plain": [
       "array(['Maruti', 'Skoda', 'Honda', 'Hyundai', 'Toyota', 'Ford', 'Renault',\n",
       "       'Mahindra', 'Tata', 'Chevrolet', 'Datsun', 'Jeep', 'Mercedes-Benz',\n",
       "       'Mitsubishi', 'Audi', 'Volkswagen', 'BMW', 'Nissan', 'Jaguar',\n",
       "       'MG', 'Volvo', 'Daewoo', 'Kia', 'Fiat', 'Force', 'Land',\n",
       "       'Ambassador', 'Ashok', 'Isuzu', 'Opel'], dtype=object)"
      ]
     },
     "execution_count": 85,
     "metadata": {},
     "output_type": "execute_result"
    }
   ],
   "source": [
    "cars_data['name'].unique()"
   ]
  },
  {
   "cell_type": "code",
   "execution_count": 86,
   "id": "3aee661f",
   "metadata": {},
   "outputs": [],
   "source": [
    "cars_data['name'].replace(['Maruti', 'Skoda', 'Honda', 'Hyundai', 'Toyota', 'Ford', 'Renault',\n",
    "       'Mahindra', 'Tata', 'Chevrolet', 'Datsun', 'Jeep', 'Mercedes-Benz',\n",
    "       'Mitsubishi', 'Audi', 'Volkswagen', 'BMW', 'Nissan', 'Lexus',\n",
    "       'Jaguar', 'Land', 'MG', 'Volvo', 'Daewoo', 'Kia', 'Fiat', 'Force',\n",
    "       'Ambassador', 'Ashok', 'Isuzu', 'Opel'],\n",
    "                          [1,2,3,4,5,6,7,8,9,10,11,12,13,14,15,16,17,18,19,20,21,22,23,24,25,26,27,28,29,30,31]\n",
    "                          ,inplace=True)"
   ]
  },
  {
   "cell_type": "code",
   "execution_count": 87,
   "id": "531fd2e4",
   "metadata": {},
   "outputs": [
    {
     "data": {
      "text/plain": [
       "array(['Manual', 'Automatic'], dtype=object)"
      ]
     },
     "execution_count": 87,
     "metadata": {},
     "output_type": "execute_result"
    }
   ],
   "source": [
    "cars_data['transmission'].unique()"
   ]
  },
  {
   "cell_type": "code",
   "execution_count": 88,
   "id": "d4caa362",
   "metadata": {},
   "outputs": [],
   "source": [
    "cars_data['transmission'].replace(['Manual', 'Automatic'],[1,2], inplace=True)"
   ]
  },
  {
   "cell_type": "code",
   "execution_count": 89,
   "id": "9839314c",
   "metadata": {},
   "outputs": [
    {
     "data": {
      "text/plain": [
       "array(['Individual', 'Dealer', 'Trustmark Dealer'], dtype=object)"
      ]
     },
     "execution_count": 89,
     "metadata": {},
     "output_type": "execute_result"
    }
   ],
   "source": [
    "cars_data['seller_type'].unique()"
   ]
  },
  {
   "cell_type": "code",
   "execution_count": 90,
   "id": "89b482eb",
   "metadata": {},
   "outputs": [],
   "source": [
    "cars_data['seller_type'].replace(['Individual', 'Dealer', 'Trustmark Dealer'],[1,2,3], inplace=True)"
   ]
  },
  {
   "cell_type": "code",
   "execution_count": 91,
   "id": "4c5c30d4",
   "metadata": {},
   "outputs": [
    {
     "data": {
      "text/plain": [
       "array(['Diesel', 'Petrol', 'LPG', 'CNG'], dtype=object)"
      ]
     },
     "execution_count": 91,
     "metadata": {},
     "output_type": "execute_result"
    }
   ],
   "source": [
    "cars_data['fuel'].unique()"
   ]
  },
  {
   "cell_type": "code",
   "execution_count": 92,
   "id": "a40c80b7",
   "metadata": {},
   "outputs": [],
   "source": [
    "cars_data['fuel'].replace(['Diesel', 'Petrol', 'LPG', 'CNG'],[1,2,3,4], inplace=True)"
   ]
  },
  {
   "cell_type": "code",
   "execution_count": 93,
   "id": "ef6bef2c",
   "metadata": {},
   "outputs": [],
   "source": [
    "cars_data.reset_index(inplace=True)"
   ]
  },
  {
   "cell_type": "code",
   "execution_count": 94,
   "id": "cd83ffac",
   "metadata": {},
   "outputs": [
    {
     "data": {
      "text/html": [
       "<div>\n",
       "<style scoped>\n",
       "    .dataframe tbody tr th:only-of-type {\n",
       "        vertical-align: middle;\n",
       "    }\n",
       "\n",
       "    .dataframe tbody tr th {\n",
       "        vertical-align: top;\n",
       "    }\n",
       "\n",
       "    .dataframe thead th {\n",
       "        text-align: right;\n",
       "    }\n",
       "</style>\n",
       "<table border=\"1\" class=\"dataframe\">\n",
       "  <thead>\n",
       "    <tr style=\"text-align: right;\">\n",
       "      <th></th>\n",
       "      <th>index</th>\n",
       "      <th>name</th>\n",
       "      <th>year</th>\n",
       "      <th>selling_price</th>\n",
       "      <th>km_driven</th>\n",
       "      <th>fuel</th>\n",
       "      <th>seller_type</th>\n",
       "      <th>transmission</th>\n",
       "      <th>owner</th>\n",
       "      <th>mileage</th>\n",
       "      <th>engine</th>\n",
       "      <th>max_power</th>\n",
       "      <th>seats</th>\n",
       "    </tr>\n",
       "  </thead>\n",
       "  <tbody>\n",
       "    <tr>\n",
       "      <th>0</th>\n",
       "      <td>0</td>\n",
       "      <td>1</td>\n",
       "      <td>2014</td>\n",
       "      <td>450000</td>\n",
       "      <td>145500</td>\n",
       "      <td>1</td>\n",
       "      <td>1</td>\n",
       "      <td>1</td>\n",
       "      <td>First Owner</td>\n",
       "      <td>23.40</td>\n",
       "      <td>1248 CC</td>\n",
       "      <td>74 bhp</td>\n",
       "      <td>5.0</td>\n",
       "    </tr>\n",
       "    <tr>\n",
       "      <th>1</th>\n",
       "      <td>1</td>\n",
       "      <td>2</td>\n",
       "      <td>2014</td>\n",
       "      <td>370000</td>\n",
       "      <td>120000</td>\n",
       "      <td>1</td>\n",
       "      <td>1</td>\n",
       "      <td>1</td>\n",
       "      <td>Second Owner</td>\n",
       "      <td>21.14</td>\n",
       "      <td>1498 CC</td>\n",
       "      <td>103.52 bhp</td>\n",
       "      <td>5.0</td>\n",
       "    </tr>\n",
       "    <tr>\n",
       "      <th>2</th>\n",
       "      <td>2</td>\n",
       "      <td>3</td>\n",
       "      <td>2006</td>\n",
       "      <td>158000</td>\n",
       "      <td>140000</td>\n",
       "      <td>2</td>\n",
       "      <td>1</td>\n",
       "      <td>1</td>\n",
       "      <td>Third Owner</td>\n",
       "      <td>17.70</td>\n",
       "      <td>1497 CC</td>\n",
       "      <td>78 bhp</td>\n",
       "      <td>5.0</td>\n",
       "    </tr>\n",
       "    <tr>\n",
       "      <th>3</th>\n",
       "      <td>3</td>\n",
       "      <td>4</td>\n",
       "      <td>2010</td>\n",
       "      <td>225000</td>\n",
       "      <td>127000</td>\n",
       "      <td>1</td>\n",
       "      <td>1</td>\n",
       "      <td>1</td>\n",
       "      <td>First Owner</td>\n",
       "      <td>23.00</td>\n",
       "      <td>1396 CC</td>\n",
       "      <td>90 bhp</td>\n",
       "      <td>5.0</td>\n",
       "    </tr>\n",
       "    <tr>\n",
       "      <th>4</th>\n",
       "      <td>4</td>\n",
       "      <td>1</td>\n",
       "      <td>2007</td>\n",
       "      <td>130000</td>\n",
       "      <td>120000</td>\n",
       "      <td>2</td>\n",
       "      <td>1</td>\n",
       "      <td>1</td>\n",
       "      <td>First Owner</td>\n",
       "      <td>16.10</td>\n",
       "      <td>1298 CC</td>\n",
       "      <td>88.2 bhp</td>\n",
       "      <td>5.0</td>\n",
       "    </tr>\n",
       "    <tr>\n",
       "      <th>...</th>\n",
       "      <td>...</td>\n",
       "      <td>...</td>\n",
       "      <td>...</td>\n",
       "      <td>...</td>\n",
       "      <td>...</td>\n",
       "      <td>...</td>\n",
       "      <td>...</td>\n",
       "      <td>...</td>\n",
       "      <td>...</td>\n",
       "      <td>...</td>\n",
       "      <td>...</td>\n",
       "      <td>...</td>\n",
       "      <td>...</td>\n",
       "    </tr>\n",
       "    <tr>\n",
       "      <th>7772</th>\n",
       "      <td>8123</td>\n",
       "      <td>4</td>\n",
       "      <td>2013</td>\n",
       "      <td>320000</td>\n",
       "      <td>110000</td>\n",
       "      <td>2</td>\n",
       "      <td>1</td>\n",
       "      <td>1</td>\n",
       "      <td>First Owner</td>\n",
       "      <td>18.50</td>\n",
       "      <td>1197 CC</td>\n",
       "      <td>82.85 bhp</td>\n",
       "      <td>5.0</td>\n",
       "    </tr>\n",
       "    <tr>\n",
       "      <th>7773</th>\n",
       "      <td>8124</td>\n",
       "      <td>4</td>\n",
       "      <td>2007</td>\n",
       "      <td>135000</td>\n",
       "      <td>119000</td>\n",
       "      <td>1</td>\n",
       "      <td>1</td>\n",
       "      <td>1</td>\n",
       "      <td>Fourth &amp; Above Owner</td>\n",
       "      <td>16.80</td>\n",
       "      <td>1493 CC</td>\n",
       "      <td>110 bhp</td>\n",
       "      <td>5.0</td>\n",
       "    </tr>\n",
       "    <tr>\n",
       "      <th>7774</th>\n",
       "      <td>8125</td>\n",
       "      <td>1</td>\n",
       "      <td>2009</td>\n",
       "      <td>382000</td>\n",
       "      <td>120000</td>\n",
       "      <td>1</td>\n",
       "      <td>1</td>\n",
       "      <td>1</td>\n",
       "      <td>First Owner</td>\n",
       "      <td>19.30</td>\n",
       "      <td>1248 CC</td>\n",
       "      <td>73.9 bhp</td>\n",
       "      <td>5.0</td>\n",
       "    </tr>\n",
       "    <tr>\n",
       "      <th>7775</th>\n",
       "      <td>8126</td>\n",
       "      <td>9</td>\n",
       "      <td>2013</td>\n",
       "      <td>290000</td>\n",
       "      <td>25000</td>\n",
       "      <td>1</td>\n",
       "      <td>1</td>\n",
       "      <td>1</td>\n",
       "      <td>First Owner</td>\n",
       "      <td>23.57</td>\n",
       "      <td>1396 CC</td>\n",
       "      <td>70 bhp</td>\n",
       "      <td>5.0</td>\n",
       "    </tr>\n",
       "    <tr>\n",
       "      <th>7776</th>\n",
       "      <td>8127</td>\n",
       "      <td>9</td>\n",
       "      <td>2013</td>\n",
       "      <td>290000</td>\n",
       "      <td>25000</td>\n",
       "      <td>1</td>\n",
       "      <td>1</td>\n",
       "      <td>1</td>\n",
       "      <td>First Owner</td>\n",
       "      <td>23.57</td>\n",
       "      <td>1396 CC</td>\n",
       "      <td>70 bhp</td>\n",
       "      <td>5.0</td>\n",
       "    </tr>\n",
       "  </tbody>\n",
       "</table>\n",
       "<p>7777 rows × 13 columns</p>\n",
       "</div>"
      ],
      "text/plain": [
       "      index  name  year  selling_price  km_driven  fuel  seller_type  \\\n",
       "0         0     1  2014         450000     145500     1            1   \n",
       "1         1     2  2014         370000     120000     1            1   \n",
       "2         2     3  2006         158000     140000     2            1   \n",
       "3         3     4  2010         225000     127000     1            1   \n",
       "4         4     1  2007         130000     120000     2            1   \n",
       "...     ...   ...   ...            ...        ...   ...          ...   \n",
       "7772   8123     4  2013         320000     110000     2            1   \n",
       "7773   8124     4  2007         135000     119000     1            1   \n",
       "7774   8125     1  2009         382000     120000     1            1   \n",
       "7775   8126     9  2013         290000      25000     1            1   \n",
       "7776   8127     9  2013         290000      25000     1            1   \n",
       "\n",
       "      transmission                 owner  mileage   engine   max_power  seats  \n",
       "0                1           First Owner    23.40  1248 CC      74 bhp    5.0  \n",
       "1                1          Second Owner    21.14  1498 CC  103.52 bhp    5.0  \n",
       "2                1           Third Owner    17.70  1497 CC      78 bhp    5.0  \n",
       "3                1           First Owner    23.00  1396 CC      90 bhp    5.0  \n",
       "4                1           First Owner    16.10  1298 CC    88.2 bhp    5.0  \n",
       "...            ...                   ...      ...      ...         ...    ...  \n",
       "7772             1           First Owner    18.50  1197 CC   82.85 bhp    5.0  \n",
       "7773             1  Fourth & Above Owner    16.80  1493 CC     110 bhp    5.0  \n",
       "7774             1           First Owner    19.30  1248 CC    73.9 bhp    5.0  \n",
       "7775             1           First Owner    23.57  1396 CC      70 bhp    5.0  \n",
       "7776             1           First Owner    23.57  1396 CC      70 bhp    5.0  \n",
       "\n",
       "[7777 rows x 13 columns]"
      ]
     },
     "execution_count": 94,
     "metadata": {},
     "output_type": "execute_result"
    }
   ],
   "source": [
    "cars_data"
   ]
  },
  {
   "cell_type": "code",
   "execution_count": 95,
   "id": "7f224b7b",
   "metadata": {},
   "outputs": [],
   "source": [
    "import pandas as pd\n",
    "\n",
    "# Assuming cars_data is your DataFrame and 'engine' is the column containing strings with '1248 CC' format\n",
    "cars_data['engine'] = cars_data['engine'].str.extract('(\\d+)').astype(float)\n"
   ]
  },
  {
   "cell_type": "code",
   "execution_count": 96,
   "id": "a2c14507",
   "metadata": {},
   "outputs": [],
   "source": [
    "cars_data['owner'].replace(['First Owner', 'Second Owner', 'Third Owner',\n",
    "       'Fourth & Above Owner', 'Test Drive Car'],\n",
    "                           [1,2,3,4,5], inplace=True)"
   ]
  },
  {
   "cell_type": "code",
   "execution_count": 97,
   "id": "96875ef9",
   "metadata": {},
   "outputs": [],
   "source": [
    "cars_data.drop(columns=['max_power'],inplace=True)"
   ]
  },
  {
   "cell_type": "code",
   "execution_count": 98,
   "id": "8268ec01",
   "metadata": {},
   "outputs": [
    {
     "data": {
      "text/plain": [
       "index            0\n",
       "name             0\n",
       "year             0\n",
       "selling_price    0\n",
       "km_driven        0\n",
       "fuel             0\n",
       "seller_type      0\n",
       "transmission     0\n",
       "owner            0\n",
       "mileage          0\n",
       "engine           0\n",
       "seats            0\n",
       "dtype: int64"
      ]
     },
     "execution_count": 98,
     "metadata": {},
     "output_type": "execute_result"
    }
   ],
   "source": [
    "cars_data.isnull().sum()"
   ]
  },
  {
   "cell_type": "code",
   "execution_count": 101,
   "id": "bd6613e3",
   "metadata": {},
   "outputs": [],
   "source": [
    "input_data = cars_data.drop(columns=['selling_price'])\n",
    "output_data =cars_data['selling_price']"
   ]
  },
  {
   "cell_type": "code",
   "execution_count": 102,
   "id": "f763f230",
   "metadata": {},
   "outputs": [
    {
     "name": "stdout",
     "output_type": "stream",
     "text": [
      "R2 Score: 0.9506069259279097\n"
     ]
    }
   ],
   "source": [
    "from sklearn.ensemble import RandomForestRegressor\n",
    "from sklearn.model_selection import train_test_split\n",
    "from sklearn.metrics import r2_score\n",
    "\n",
    "# Split the data into training and testing sets\n",
    "input_data = cars_data.drop(columns=['selling_price'])\n",
    "output_data = cars_data['selling_price']\n",
    "x_train, x_test, y_train, y_test = train_test_split(input_data, output_data, test_size=0.2)\n",
    "\n",
    "# Create a Random Forest regressor model\n",
    "modelt= RandomForestRegressor()\n",
    "\n",
    "# Train the model\n",
    "modelt.fit(x_train, y_train)\n",
    "\n",
    "# Make predictions on the test data\n",
    "predict = modelt.predict(x_test)\n",
    "\n",
    "# Calculate the R2 score\n",
    "r2 = r2_score(y_test, predict)\n",
    "print(\"R2 Score:\", r2)\n"
   ]
  },
  {
   "cell_type": "code",
   "execution_count": 49,
   "id": "2e29d4e0",
   "metadata": {},
   "outputs": [],
   "source": [
    "cars_data.drop(columns=['index'],inplace=True)"
   ]
  },
  {
   "cell_type": "code",
   "execution_count": 54,
   "id": "ab98e995",
   "metadata": {},
   "outputs": [
    {
     "data": {
      "text/html": [
       "<div>\n",
       "<style scoped>\n",
       "    .dataframe tbody tr th:only-of-type {\n",
       "        vertical-align: middle;\n",
       "    }\n",
       "\n",
       "    .dataframe tbody tr th {\n",
       "        vertical-align: top;\n",
       "    }\n",
       "\n",
       "    .dataframe thead th {\n",
       "        text-align: right;\n",
       "    }\n",
       "</style>\n",
       "<table border=\"1\" class=\"dataframe\">\n",
       "  <thead>\n",
       "    <tr style=\"text-align: right;\">\n",
       "      <th></th>\n",
       "      <th>name</th>\n",
       "      <th>year</th>\n",
       "      <th>selling_price</th>\n",
       "      <th>km_driven</th>\n",
       "      <th>fuel</th>\n",
       "      <th>seller_type</th>\n",
       "      <th>transmission</th>\n",
       "      <th>owner</th>\n",
       "      <th>mileage</th>\n",
       "      <th>engine</th>\n",
       "      <th>seats</th>\n",
       "    </tr>\n",
       "  </thead>\n",
       "  <tbody>\n",
       "    <tr>\n",
       "      <th>0</th>\n",
       "      <td>1</td>\n",
       "      <td>2014</td>\n",
       "      <td>450000</td>\n",
       "      <td>145500</td>\n",
       "      <td>1</td>\n",
       "      <td>1</td>\n",
       "      <td>1</td>\n",
       "      <td>1</td>\n",
       "      <td>23.40</td>\n",
       "      <td>1248.0</td>\n",
       "      <td>5.0</td>\n",
       "    </tr>\n",
       "    <tr>\n",
       "      <th>1</th>\n",
       "      <td>2</td>\n",
       "      <td>2014</td>\n",
       "      <td>370000</td>\n",
       "      <td>120000</td>\n",
       "      <td>1</td>\n",
       "      <td>1</td>\n",
       "      <td>1</td>\n",
       "      <td>2</td>\n",
       "      <td>21.14</td>\n",
       "      <td>1498.0</td>\n",
       "      <td>5.0</td>\n",
       "    </tr>\n",
       "    <tr>\n",
       "      <th>2</th>\n",
       "      <td>3</td>\n",
       "      <td>2006</td>\n",
       "      <td>158000</td>\n",
       "      <td>140000</td>\n",
       "      <td>2</td>\n",
       "      <td>1</td>\n",
       "      <td>1</td>\n",
       "      <td>3</td>\n",
       "      <td>17.70</td>\n",
       "      <td>1497.0</td>\n",
       "      <td>5.0</td>\n",
       "    </tr>\n",
       "    <tr>\n",
       "      <th>3</th>\n",
       "      <td>4</td>\n",
       "      <td>2010</td>\n",
       "      <td>225000</td>\n",
       "      <td>127000</td>\n",
       "      <td>1</td>\n",
       "      <td>1</td>\n",
       "      <td>1</td>\n",
       "      <td>1</td>\n",
       "      <td>23.00</td>\n",
       "      <td>1396.0</td>\n",
       "      <td>5.0</td>\n",
       "    </tr>\n",
       "    <tr>\n",
       "      <th>4</th>\n",
       "      <td>1</td>\n",
       "      <td>2007</td>\n",
       "      <td>130000</td>\n",
       "      <td>120000</td>\n",
       "      <td>2</td>\n",
       "      <td>1</td>\n",
       "      <td>1</td>\n",
       "      <td>1</td>\n",
       "      <td>16.10</td>\n",
       "      <td>1298.0</td>\n",
       "      <td>5.0</td>\n",
       "    </tr>\n",
       "  </tbody>\n",
       "</table>\n",
       "</div>"
      ],
      "text/plain": [
       "   name  year  selling_price  km_driven  fuel  seller_type  transmission  \\\n",
       "0     1  2014         450000     145500     1            1             1   \n",
       "1     2  2014         370000     120000     1            1             1   \n",
       "2     3  2006         158000     140000     2            1             1   \n",
       "3     4  2010         225000     127000     1            1             1   \n",
       "4     1  2007         130000     120000     2            1             1   \n",
       "\n",
       "   owner  mileage  engine  seats  \n",
       "0      1    23.40  1248.0    5.0  \n",
       "1      2    21.14  1498.0    5.0  \n",
       "2      3    17.70  1497.0    5.0  \n",
       "3      1    23.00  1396.0    5.0  \n",
       "4      1    16.10  1298.0    5.0  "
      ]
     },
     "execution_count": 54,
     "metadata": {},
     "output_type": "execute_result"
    }
   ],
   "source": [
    "cars_data.head()"
   ]
  },
  {
   "cell_type": "code",
   "execution_count": 51,
   "id": "e2a135b8",
   "metadata": {},
   "outputs": [
    {
     "name": "stdout",
     "output_type": "stream",
     "text": [
      "R2 Score: 0.9309338867051782\n"
     ]
    }
   ],
   "source": [
    "from sklearn.ensemble import RandomForestRegressor\n",
    "from sklearn.model_selection import train_test_split\n",
    "from sklearn.metrics import r2_score\n",
    "\n",
    "# Split the data into training and testing sets\n",
    "input_data = cars_data.drop(columns=['selling_price'])\n",
    "output_data = cars_data['selling_price']\n",
    "x_train, x_test, y_train, y_test = train_test_split(input_data, output_data, test_size=0.2)\n",
    "\n",
    "# Create a Random Forest regressor model\n",
    "modelx = RandomForestRegressor()\n",
    "\n",
    "# Train the model\n",
    "modelx.fit(x_train, y_train)\n",
    "\n",
    "# Make predictions on the test data\n",
    "predict = modelx.predict(x_test)\n",
    "\n",
    "# Calculate the R2 score\n",
    "r2 = r2_score(y_test, predict)\n",
    "print(\"R2 Score:\", r2)\n"
   ]
  },
  {
   "cell_type": "code",
   "execution_count": 55,
   "id": "e228f373",
   "metadata": {},
   "outputs": [],
   "source": [
    "input_data_model = pd.DataFrame(\n",
    "    [[1,3,2006,140000,2,1,1,3,17.70,1497,5]])"
   ]
  },
  {
   "cell_type": "code",
   "execution_count": 56,
   "id": "9f1a5500",
   "metadata": {},
   "outputs": [
    {
     "name": "stderr",
     "output_type": "stream",
     "text": [
      "D:\\New folder\\pp\\Lib\\site-packages\\sklearn\\base.py:439: UserWarning: X does not have valid feature names, but RandomForestRegressor was fitted with feature names\n",
      "  warnings.warn(\n"
     ]
    },
    {
     "data": {
      "text/plain": [
       "array([163179.99])"
      ]
     },
     "execution_count": 56,
     "metadata": {},
     "output_type": "execute_result"
    }
   ],
   "source": [
    "model.predict(input_data_model)"
   ]
  },
  {
   "cell_type": "code",
   "execution_count": 103,
   "id": "a6a37162",
   "metadata": {},
   "outputs": [],
   "source": [
    "import pickle\n",
    "filename = 'final.sav'\n",
    "pickle.dump(modelt, open(filename,'wb'))"
   ]
  },
  {
   "cell_type": "code",
   "execution_count": 104,
   "id": "c9a7489d",
   "metadata": {},
   "outputs": [],
   "source": [
    "load_model= pickle.load(open(filename,'rb'))"
   ]
  },
  {
   "cell_type": "code",
   "execution_count": null,
   "id": "1da7b2a2",
   "metadata": {},
   "outputs": [],
   "source": [
    "pip install scikit-learn==1.2.2\n"
   ]
  },
  {
   "cell_type": "code",
   "execution_count": 107,
   "id": "47befc0c",
   "metadata": {},
   "outputs": [],
   "source": [
    "from joblib import dump, load\n",
    "\n",
    "# Save the model\n",
    "dump(modelt, 'final1.joblib')\n",
    "\n",
    "# Load the model\n",
    "model = load('final1.joblib')\n"
   ]
  },
  {
   "cell_type": "code",
   "execution_count": 108,
   "id": "184dde88",
   "metadata": {},
   "outputs": [
    {
     "name": "stdout",
     "output_type": "stream",
     "text": [
      "Predictions: [167229.98]\n"
     ]
    },
    {
     "name": "stderr",
     "output_type": "stream",
     "text": [
      "D:\\New folder\\pp\\Lib\\site-packages\\sklearn\\base.py:439: UserWarning: X does not have valid feature names, but RandomForestRegressor was fitted with feature names\n",
      "  warnings.warn(\n"
     ]
    }
   ],
   "source": [
    "from joblib import load\n",
    "\n",
    "# Load the model\n",
    "model = load('final1.joblib')\n",
    "\n",
    "# Prepare your data for prediction\n",
    "# Example data (replace this with your actual data)\n",
    "new_data = [[1,3,2006,140000,2,1,1,3,17.70,1497,5]]  # Replace feature1_value, feature2_value, ... with your actual feature values\n",
    "\n",
    "# Make predictions\n",
    "predictions = model.predict(new_data)\n",
    "\n",
    "# Print the predictions\n",
    "print(\"Predictions:\", predictions)\n"
   ]
  },
  {
   "cell_type": "code",
   "execution_count": null,
   "id": "cbef9f6b",
   "metadata": {},
   "outputs": [],
   "source": []
  }
 ],
 "metadata": {
  "kernelspec": {
   "display_name": "Python 3 (ipykernel)",
   "language": "python",
   "name": "python3"
  },
  "language_info": {
   "codemirror_mode": {
    "name": "ipython",
    "version": 3
   },
   "file_extension": ".py",
   "mimetype": "text/x-python",
   "name": "python",
   "nbconvert_exporter": "python",
   "pygments_lexer": "ipython3",
   "version": "3.11.3"
  }
 },
 "nbformat": 4,
 "nbformat_minor": 5
}
